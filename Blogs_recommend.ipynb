{
  "nbformat": 4,
  "nbformat_minor": 0,
  "metadata": {
    "colab": {
      "name": "Blogs_recommend.ipynb",
      "provenance": [],
      "collapsed_sections": []
    },
    "kernelspec": {
      "name": "python3",
      "display_name": "Python 3"
    },
    "language_info": {
      "name": "python"
    }
  },
  "cells": [
    {
      "cell_type": "code",
      "metadata": {
        "id": "s8Os_IYXFX9j"
      },
      "source": [
        "import pandas as pd\n",
        "import numpy as np\n",
        "from sklearn.feature_extraction.text import TfidfVectorizer\n",
        "from sklearn.metrics.pairwise import cosine_similarity"
      ],
      "execution_count": 57,
      "outputs": []
    },
    {
      "cell_type": "code",
      "metadata": {
        "colab": {
          "base_uri": "https://localhost:8080/",
          "height": 419
        },
        "id": "mQzESNHrHQK2",
        "outputId": "5ac6eb7e-94a5-49a9-f5dd-8433d8cf9dc9"
      },
      "source": [
        "df = pd.read_excel('blogs_dataset.xlsx')\n",
        "df"
      ],
      "execution_count": 58,
      "outputs": [
        {
          "output_type": "execute_result",
          "data": {
            "text/html": [
              "<div>\n",
              "<style scoped>\n",
              "    .dataframe tbody tr th:only-of-type {\n",
              "        vertical-align: middle;\n",
              "    }\n",
              "\n",
              "    .dataframe tbody tr th {\n",
              "        vertical-align: top;\n",
              "    }\n",
              "\n",
              "    .dataframe thead th {\n",
              "        text-align: right;\n",
              "    }\n",
              "</style>\n",
              "<table border=\"1\" class=\"dataframe\">\n",
              "  <thead>\n",
              "    <tr style=\"text-align: right;\">\n",
              "      <th></th>\n",
              "      <th>title</th>\n",
              "      <th>info</th>\n",
              "    </tr>\n",
              "  </thead>\n",
              "  <tbody>\n",
              "    <tr>\n",
              "      <th>0</th>\n",
              "      <td>First Artificial Enzyme From Two Non-Biologica...</td>\n",
              "      <td>Scientists have used an unnatural amino acid a...</td>\n",
              "    </tr>\n",
              "    <tr>\n",
              "      <th>1</th>\n",
              "      <td>AI Will Revolutionize DNA Evidence – Once We C...</td>\n",
              "      <td>DNA evidence often isn’t as watertight as many...</td>\n",
              "    </tr>\n",
              "    <tr>\n",
              "      <th>2</th>\n",
              "      <td>The Hubble Space Telescope Is Falling (Synopsis)</td>\n",
              "      <td>\"When we meet real tragedy in life, we can rea...</td>\n",
              "    </tr>\n",
              "    <tr>\n",
              "      <th>3</th>\n",
              "      <td>5 NASA Photos That Changed The World</td>\n",
              "      <td>\"Truth in science, however, is never final, an...</td>\n",
              "    </tr>\n",
              "    <tr>\n",
              "      <th>4</th>\n",
              "      <td>Double Comments of the Week #178: From Point P...</td>\n",
              "      <td>“I see now that the circumstances of one's bir...</td>\n",
              "    </tr>\n",
              "    <tr>\n",
              "      <th>...</th>\n",
              "      <td>...</td>\n",
              "      <td>...</td>\n",
              "    </tr>\n",
              "    <tr>\n",
              "      <th>1012</th>\n",
              "      <td>A Question For The President</td>\n",
              "      <td>After a day-long road trip from Ohio, I finall...</td>\n",
              "    </tr>\n",
              "    <tr>\n",
              "      <th>1013</th>\n",
              "      <td>Once More with Sandefur on the Explosives</td>\n",
              "      <td>Here we go again.... \\n The link here is to a ...</td>\n",
              "    </tr>\n",
              "    <tr>\n",
              "      <th>1014</th>\n",
              "      <td>Deadly, Tiny, and Ready For Its Close-up, Mr. ...</td>\n",
              "      <td>If you took a census of life on Earth, you'd p...</td>\n",
              "    </tr>\n",
              "    <tr>\n",
              "      <th>1015</th>\n",
              "      <td>When Think Tanks Attack</td>\n",
              "      <td>The Alexis de Tocqueville Institute's attack o...</td>\n",
              "    </tr>\n",
              "    <tr>\n",
              "      <th>1016</th>\n",
              "      <td>The AAAS on Georgia Evolution Controversy</td>\n",
              "      <td>Alan Leshner, the head of the American Associa...</td>\n",
              "    </tr>\n",
              "  </tbody>\n",
              "</table>\n",
              "<p>1017 rows × 2 columns</p>\n",
              "</div>"
            ],
            "text/plain": [
              "                                                  title                                               info\n",
              "0     First Artificial Enzyme From Two Non-Biologica...  Scientists have used an unnatural amino acid a...\n",
              "1     AI Will Revolutionize DNA Evidence – Once We C...  DNA evidence often isn’t as watertight as many...\n",
              "2      The Hubble Space Telescope Is Falling (Synopsis)  \"When we meet real tragedy in life, we can rea...\n",
              "3                  5 NASA Photos That Changed The World  \"Truth in science, however, is never final, an...\n",
              "4     Double Comments of the Week #178: From Point P...  “I see now that the circumstances of one's bir...\n",
              "...                                                 ...                                                ...\n",
              "1012                       A Question For The President  After a day-long road trip from Ohio, I finall...\n",
              "1013          Once More with Sandefur on the Explosives  Here we go again.... \\n The link here is to a ...\n",
              "1014  Deadly, Tiny, and Ready For Its Close-up, Mr. ...  If you took a census of life on Earth, you'd p...\n",
              "1015                            When Think Tanks Attack  The Alexis de Tocqueville Institute's attack o...\n",
              "1016          The AAAS on Georgia Evolution Controversy  Alan Leshner, the head of the American Associa...\n",
              "\n",
              "[1017 rows x 2 columns]"
            ]
          },
          "metadata": {
            "tags": []
          },
          "execution_count": 58
        }
      ]
    },
    {
      "cell_type": "code",
      "metadata": {
        "colab": {
          "base_uri": "https://localhost:8080/"
        },
        "id": "O9OpVrK0JSsN",
        "outputId": "79759e2d-6b1a-4a88-da34-80f3ce1ed3dc"
      },
      "source": [
        "df.shape"
      ],
      "execution_count": 59,
      "outputs": [
        {
          "output_type": "execute_result",
          "data": {
            "text/plain": [
              "(1017, 2)"
            ]
          },
          "metadata": {
            "tags": []
          },
          "execution_count": 59
        }
      ]
    },
    {
      "cell_type": "code",
      "metadata": {
        "colab": {
          "base_uri": "https://localhost:8080/",
          "height": 35
        },
        "id": "BhzbjVD4JGbZ",
        "outputId": "f21dc5f3-5d71-44f9-b607-8bdb1ba53aff"
      },
      "source": [
        "df['title'][0]"
      ],
      "execution_count": 60,
      "outputs": [
        {
          "output_type": "execute_result",
          "data": {
            "application/vnd.google.colaboratory.intrinsic+json": {
              "type": "string"
            },
            "text/plain": [
              "'First Artificial Enzyme From Two Non-Biological Groups Created'"
            ]
          },
          "metadata": {
            "tags": []
          },
          "execution_count": 60
        }
      ]
    },
    {
      "cell_type": "code",
      "metadata": {
        "colab": {
          "base_uri": "https://localhost:8080/",
          "height": 171
        },
        "id": "wuc0wogiJNCf",
        "outputId": "904c10c6-8b4a-48d7-d0e6-509ac96e8571"
      },
      "source": [
        "df['info'][0]"
      ],
      "execution_count": 61,
      "outputs": [
        {
          "output_type": "execute_result",
          "data": {
            "application/vnd.google.colaboratory.intrinsic+json": {
              "type": "string"
            },
            "text/plain": [
              "'Scientists have used an unnatural amino acid and a catalytic copper complex to create\\xa0a new, artificial enzyme.\\xa0 Enzymes are natural catalysts that operate under mild conditions. This makes them an attractive alternative for industrial chemical catalysis, which may require high temperature and pressure and toxic solvents or metals. However, not all chemical reactions can be catalyzed by natural enzymes. Modifying existing enzymes is one option but University of Groningen Chemistry Professor Gerard Roelfes believes that creating new enzymes could be another valuable option. For this study,\\xa0they added a copper complex to a protein that had no enzymatic properties and\\xa0inserted an unnatural amino acid into the protein. Together with the copper, a side chain of the amino acid was able to catalyze the required reaction. This technique could\\xa0replace standard chemical catalysis and make chemistry more energy-efficient and therefore cleaner. \"Natural enzymes evolved to catalyse specific reactions. Adapting requires a kind of devolving of the enzyme. That is why we pioneered the creation of new, unnatural enzymes,\"\\xa0Roelfes says. In 2018, they created a non-enzymatic protein, the bacterial transcription factor LmrR, which could form non-biological hydrazone structures after the insertion of the unnatural amino acid p aminophenylalanine. This was the first enzyme created using an unnatural amino acid as a catalytic group. This time, they used the same LmrR protein and added two abiological catalytic components to it: one was the same unnatural amino acid p aminophenylalanine and the other a copper-containing complex. Both can activate the reaction partners for the classic Michael addition reaction, which is widely used in organic chemistry to create carbon-carbon bonds. \"But they both have to be in the right position to efficiently and selectively catalyse this reaction,\\' says Roelfes. \"Just adding both components to a test tube would not work: \\'In fact, they cancel each other out when they come too close.\" The copper-containing complex attaches itself to the doughnut-shaped LmrR protein through supramolecular bonds. Its position is determined by the interaction with the protein. They\\xa0determined where the p-aminophenylalanine should be inserted into the protein to create an active site.\\xa0The catalytic part of this amino acid is an aniline side chain. They knew the potential utility of this aniline side chain for catalysis and envisioned that it would be possible to combine it with copper catalysis.\\xa0When the novel enzyme was constructed, the adapted protein turned out to be a very selective catalyst for the Michael addition.'"
            ]
          },
          "metadata": {
            "tags": []
          },
          "execution_count": 61
        }
      ]
    },
    {
      "cell_type": "code",
      "metadata": {
        "colab": {
          "base_uri": "https://localhost:8080/"
        },
        "id": "6tbNX8FzJQF-",
        "outputId": "1940ec86-5df4-44c4-b1fe-7490410dcb6b"
      },
      "source": [
        "tf = TfidfVectorizer(analyzer='word', stop_words='english', ngram_range=(1,3), min_df=3)\n",
        "tf"
      ],
      "execution_count": 62,
      "outputs": [
        {
          "output_type": "execute_result",
          "data": {
            "text/plain": [
              "TfidfVectorizer(analyzer='word', binary=False, decode_error='strict',\n",
              "                dtype=<class 'numpy.float64'>, encoding='utf-8',\n",
              "                input='content', lowercase=True, max_df=1.0, max_features=None,\n",
              "                min_df=3, ngram_range=(1, 3), norm='l2', preprocessor=None,\n",
              "                smooth_idf=True, stop_words='english', strip_accents=None,\n",
              "                sublinear_tf=False, token_pattern='(?u)\\\\b\\\\w\\\\w+\\\\b',\n",
              "                tokenizer=None, use_idf=True, vocabulary=None)"
            ]
          },
          "metadata": {
            "tags": []
          },
          "execution_count": 62
        }
      ]
    },
    {
      "cell_type": "code",
      "metadata": {
        "colab": {
          "base_uri": "https://localhost:8080/"
        },
        "id": "ewEcglZmJuN9",
        "outputId": "d804c1fe-5c64-4041-eb5e-9d149cf6cf1d"
      },
      "source": [
        "tf_matrix = tf.fit_transform(df['info'])\n",
        "tf_matrix.shape"
      ],
      "execution_count": 63,
      "outputs": [
        {
          "output_type": "execute_result",
          "data": {
            "text/plain": [
              "(1017, 30091)"
            ]
          },
          "metadata": {
            "tags": []
          },
          "execution_count": 63
        }
      ]
    },
    {
      "cell_type": "code",
      "metadata": {
        "colab": {
          "base_uri": "https://localhost:8080/"
        },
        "id": "FjR37IPfKMuk",
        "outputId": "e6ff78ea-996a-4f73-bca0-dbcfc90442eb"
      },
      "source": [
        "sim = cosine_similarity(tf_matrix, tf_matrix)\n",
        "sim[0]"
      ],
      "execution_count": 64,
      "outputs": [
        {
          "output_type": "execute_result",
          "data": {
            "text/plain": [
              "array([1.        , 0.01308201, 0.00160427, ..., 0.01649085, 0.00818046,\n",
              "       0.01102448])"
            ]
          },
          "metadata": {
            "tags": []
          },
          "execution_count": 64
        }
      ]
    },
    {
      "cell_type": "code",
      "metadata": {
        "id": "OUYIuZPzMIfG"
      },
      "source": [
        "index = pd.Series(df.index, index=df['title']).drop_duplicates()"
      ],
      "execution_count": 65,
      "outputs": []
    },
    {
      "cell_type": "code",
      "metadata": {
        "colab": {
          "base_uri": "https://localhost:8080/"
        },
        "id": "Ch8YKQ28NqgK",
        "outputId": "fb70856b-2c85-4964-c1de-f49c3178be88"
      },
      "source": [
        "index"
      ],
      "execution_count": 66,
      "outputs": [
        {
          "output_type": "execute_result",
          "data": {
            "text/plain": [
              "title\n",
              "First Artificial Enzyme From Two Non-Biological Groups Created                                 0\n",
              "AI Will Revolutionize DNA Evidence – Once We Can Trust The Results                             1\n",
              "The Hubble Space Telescope Is Falling (Synopsis)                                               2\n",
              "5 NASA Photos That Changed The World                                                           3\n",
              "Double Comments of the Week #178: From Point Particles To The Very First Galaxies Of All       4\n",
              "                                                                                            ... \n",
              "A Question For The President                                                                1012\n",
              "Once More with Sandefur on the Explosives                                                   1013\n",
              "Deadly, Tiny, and Ready For Its Close-up, Mr. DeMille                                       1014\n",
              "When Think Tanks Attack                                                                     1015\n",
              "The AAAS on Georgia Evolution Controversy                                                   1016\n",
              "Length: 1017, dtype: int64"
            ]
          },
          "metadata": {
            "tags": []
          },
          "execution_count": 66
        }
      ]
    },
    {
      "cell_type": "code",
      "metadata": {
        "colab": {
          "base_uri": "https://localhost:8080/"
        },
        "id": "5XjzvsT_R_fX",
        "outputId": "c756da44-6e22-4ea4-a568-8383f5f610b3"
      },
      "source": [
        "index['AI Will Revolutionize DNA Evidence – Once We Can Trust The Results']"
      ],
      "execution_count": 67,
      "outputs": [
        {
          "output_type": "execute_result",
          "data": {
            "text/plain": [
              "1"
            ]
          },
          "metadata": {
            "tags": []
          },
          "execution_count": 67
        }
      ]
    },
    {
      "cell_type": "code",
      "metadata": {
        "id": "INjx--9JNrXJ"
      },
      "source": [
        "def recommend_me(title, sim=sim):\n",
        "  myindex = index[title]\n",
        "  myscore = list(enumerate(sim[myindex]))\n",
        "  myscore = sorted(myscore, key=lambda x: x[1], reverse=True)\n",
        "  top5 = myscore[1:6]\n",
        "  blog_index = [i[0] for i in top5]\n",
        "  keys = list(df['title'].iloc[blog_index])\n",
        "  values = list(df['info'].iloc[blog_index])\n",
        "  ll = [{a:b} for a,b in zip(keys, values)]\n",
        "  return ll"
      ],
      "execution_count": 217,
      "outputs": []
    },
    {
      "cell_type": "code",
      "metadata": {
        "colab": {
          "base_uri": "https://localhost:8080/",
          "height": 35
        },
        "id": "tpaLN2dtX8JR",
        "outputId": "9d8e1c40-2993-4e74-83b3-afbd6cb0c570"
      },
      "source": [
        "df['title'][21]"
      ],
      "execution_count": 219,
      "outputs": [
        {
          "output_type": "execute_result",
          "data": {
            "application/vnd.google.colaboratory.intrinsic+json": {
              "type": "string"
            },
            "text/plain": [
              "'House passes bills that will make it harder for EPA to protect public health'"
            ]
          },
          "metadata": {
            "tags": []
          },
          "execution_count": 219
        }
      ]
    },
    {
      "cell_type": "code",
      "metadata": {
        "colab": {
          "base_uri": "https://localhost:8080/"
        },
        "id": "-mPB9l-NRnOr",
        "outputId": "6df338bd-dc2c-4f0b-e4db-a033783c54e5"
      },
      "source": [
        "recommend_me('House passes bills that will make it harder for EPA to protect public health')"
      ],
      "execution_count": 218,
      "outputs": [
        {
          "output_type": "execute_result",
          "data": {
            "text/plain": [
              "[{'UCS Reports on Interference at EPA': 'The Union of Concerned Scientists has released another disturbing report about political interference with government science. For Interference at the EPA, they surveyed EPA scientists from all of the agencyâs scientific program offices and 10 regional offices, and from more than a dozen research laboratories, to learn about the extent and type of political interference with EPA science. Like UCS\\'s previous investigations on the Food and Drug Administration, Fish and Wildlife Service, National Oceanic and Atmospheric Administration, and federal climate scientists, this one found significant administration manipulation of science that is supposed to serve our health and environment. Iâm sure none of our regular readers will be surprised to hear that 889 scientists (60% of the 1,586 who completed surveys) personally experienced at least one incident of political interference during the past five years, or that 516 scientists knew of âmany or someâ cases in which EPA political appointees inappropriately involved themselves in scientific decisions. The survey did turn up a few things that were less predictable, though â and the report is well worth reading in any case, because itâs an excellent compilation of what ought to be going wrong at EPA, where the problems are, and how to fix them. \\nOne of the interesting findings was that many scientists point to the White House Office of Management and Budget as the chief problem. Weâve written before about how the Bush Administration is using the OMB to erect new hurdles for regulatory agencies, and apparently a lot of EPA scientists are running into the hurdles. Here are a few of the things EPA scientists said about OMB: â¢Â\\xa0\"Get the White House, industry, and OMB out of what is supposed to be science-based decision making.\" â¢Â\\xa0\"Also, for your next survey look at OMB. That is a true source of frustration. They truly interfere and want to stamp the White House Agenda over every document that is sent to them for review. Truly few realize the impact that they have. They have hired their own scientists and play the âmy scientist is better than yoursâ game. EPA has to accept a lot of **** from them to get any documents out.\" â¢Â\\xa0\"Restrain [the] Office of Management and Budget. This Administration has not only watered down important rules protecting public health (Iâve see this happen firsthand with the PM 2.5 implementation rule), they have also altered internal procedures so that scientific findings are accorded less weight. For example, the staff paper used previously in setting the NAAQS review has been eliminated.\" â¢Â\\xa0\"OMB and the White House have, in some cases, compromised the integrity of EPA rules and policies; their influence, largely hidden from the public and driven by industry lobbying, has decreased the stringency of proposed regulations for nonscientific, political reasons. Because the real reasons canât be stated, the regulations contain a scientific rationale with little or no merit.\" â¢Â\\xa0\"In this administration, self-censorship is almost as powerful as political censorship. Options that OMB or the White House wouldnât like arenât even put forward.\" â¢Â\\xa0\"Over the last few years it has come to pass that OMB typically provides nonsensical political edits to every technical guidance coming out. (Not just the ones we hear about in the news, but ALL of them.) This is often done behind closed doorsâafter the document leaves the control of technical staff, OMB/White House request EPA management to make their requested political changes as EPA technical edits, before officially submitting to OMB for review.\" â¢Â\\xa0\"Control the power of OMB to a reasonable levelâOMB does more to waste time and taxpayer dollars than any other organization in the government.\" Scientists who reported having personal experience with political interference were more likely to report that their job satisfaction had declined â and, overall, twice as many respondents reported a drop in job satisfaction over the past five years as those who reported an increase (670, or 44%, reported a decline, and 328, or 21% reported an increase). Having heard so much about political interference over the past few years, I was pleasantly surprised to see that respondents didnât overwhelmingly say that morale was terrible: 570 scientists said it was excellent, 564 found it fair, and 387 reported it to be poor or extremely poor. There were also fairly high numbers for some other positive statements: â¢Â\\xa01,282 scientists (81 percent) respected the integrity and professionalism of their direct manager or supervisor, while 686 (43 percent) said the same about the EPAâs senior leaders. â¦ â¢Â\\xa0A clear majority of respondents (984 scientists, or 62 percent) reported that they are âprovided with the appropriate time and resources to keep up with advances in my profession, including attending conferences and participation in scientific or professional societies.â However, 466 scientists (29 percent) disagreed or strongly disagreed. â¦ â¢Â\\xa0Respondents were more likely to agree than disagree that the EPA was acting effectively to clean up environmental problems. A total of 812 scientists (52 percent) agreed that the EPA acts effectively to âclean up and/or mitigate existing pollution or environmental problems,â while 522 scientists (33 percent) disagreed.Â\\xa0 â¦ Behind the terrible headlines about Bush administration distorting or ignoring the science on global warming, mercury emissions, air pollution, and other hazards, there are still many EPA staffers who are committed to carrying out the agencyâs mission and able to do their jobs. The current crop of political appointees wonât be around much longer, and we can be hopeful that the next administration will recognize that government scientists should be free to do their jobs without political interference. UCS has several recommendations to protect scientistsâ rights and safeguard against political interference of science, including: â¢Â\\xa0Protect EPA scientists by improving whistleblower protections and granting inspectors general greater autonomy and immunity\\nâ¢Â\\xa0Make the EPA more transparent by letting the public know about non-agency attendees at EPA meetings, releasing more documents, and publishing summary statements about science-related policy, guidance, and regulation\\nâ¢Â\\xa0Reform media policy to respect scientistsâ rights to speak freely on any topic when they clarify that theyâre speaking as private citizens\\nâ¢Â\\xa0Reform EPAâs publication policy to streamline excessive review, limit delays, and exempt non-official publications from review\\nâ¢Â\\xa0Ensure EPA independence by making it a cabinet-level agency, and keep OMB from interfering with the agencyâs scientific and technical determinations\\nâ¢Â\\xa0Enact legislative reforms to equip EPA to address emerging challenges like climate change and nanotechnology\\nâ¢Â\\xa0Disclose and mitigate conflicts of interest\\nâ¢Â\\xa0Make better use of scientific advisory committees Although much of the reportâs contents is grim, UCS has doneÂ\\xa0a terrificÂ\\xa0job putting it together, and itâs a valuable resource. (For anyone who wants to learn more about EPA, Chapter Two of the report provides a helpful summary the agencyâs history and organization in under 10 pages.) Perhaps weâll be able to look back at it five years from now and be happy to realize how much things have improved.'},\n",
              " {'Judge Finds States are Doing What Congress Intended': 'by Liz BorkowskiÂ\\xa0 Bush appointees and polluting industries may oppose statesâ attempts to regulate greenhouse gas emissions, but courts have been ruling in statesâ favor. In April, the Supreme Court found that EPA, contrary to its insistence, does in fact have the authority to regulate carbon dioxide emissions. Last week, a federal judge upheld a Vermont law establishing reduced greenhouse gas emission standards for new cars sold in that state. Like the Supreme Court justices, U.S. District Judge William Sessions found that state efforts to regulate greenhouse gas emissions are perfectly in line with what Congress intended when it passed the relevant legislation â and he also didnât buy assertions by the auto-industry plaintiffs that Vermontâs law would spell disaster forÂ\\xa0consumers and auto workers. \\nHere\\'s the background: Under the Clean Air Act, the EPA is required to regulate new vehicle emissions, and states canât adopt their own emissions standards; however, California is able to request a waiver from EPA and adopt its own standards, provided they meet certain conditions. Then, other states can adopt a California standard that has received a waiver. Californiaâs Air Resources Board adopted regulations of greenhouse gas emissions (for new vehicles beginning with model year 2009) and requested a waiver from EPA in December 2005. Since then, Vermont and 10 other states have adopted Californiaâs regulations. EPA has been dragging its heels in responding, but automakers have been quick to react â not by pouring their resources into new designs or technology, but by suing the states. As Judge Sessions explains (PDF here), the Courtâs task in the Vermont case was to âdetermine whether the plaintiffs have carried their burden to show that Vermontâs GHG regulation stands as an obstacle to the objectives of Congressâ â specifically, Congressâs objectives when it passed the Clean Air Act (and its amendments) and the Energy Policy and Conservation Act. Judge Sessions decided that the plaintiffs did not carry their burden, and one reason was that Californiaâs regulations are actually doing exactly what Congress hoped they would: Congress allowed California to avoid preemption not only because it was persuaded that California had uniquely severe air pollution problems and a burgeoning number and concentration of automobiles â¦ but because California had led the nation in establishing motor vehicle emission control requirements. It determined that there were potential benefits for the nation in allowing California to continue to experiment and innovate in the field of emissions control. Plaintiffs also alleged that the GHG regulations would present an obstacle to EPCAâs objectives, which include requiring NHTSA to set fuel efficiency standards that are technological feasible and economic practicable. Here, again, Sessions invokes Congressional intent: Congress deliberately chose a technology-forcing approach in the 1970 CAA amendments to require EPA to ââpress for the development and application of improved technology rather than be limited by that which exists today,ââ â¦ and to force the industry âto develop pollution control devices that might at the time appear to be economically or technologically infeasible.â â¦ EPCA also was a technology-forcing statute, âwith the recognition that âmarket forces . . . may not be strong enough to bring about the necessary fuel conservation which a national energy policy demands.ââ As for the plaintiffsâ claims that GHG regulation would spell financial ruin (and, worse yet, consumer choices that might include fewer gas guzzlers!), Judge Sessions offered a reminder of claims surrounding the Clean Air Act: Manufacturers were skeptical; in 1973 General Motors predicted that: If GM is forced to introduce catalytic converter systems across the board on 1975 models, the prospect of an unreasonable risk of business catastrophe and massive difficulties with these vehicles in the hand of the public must be faced. It is conceivable that complete stoppage of the entire production could occur . . . Short of that ultimate risk, there is a distinct possibility of varying degrees of interruption with sizable dislocations. â¦ But General Motors did successfully install catalytic converters in its vehicles beginning in 1975. â¦Ultimately the automobile industryâs effectiveness at reducing emissions has been âone of the greatest success stories in environmental control in the world.â The alleged financial ruin would, of course, spell unemployment for thousands of auto workers, but Judge Sessions didnât find that argument compelling, particularly in light of recent massive layoffs. (Sessions noted that U.S. automakersâ recent declining sales are attributable partly to their failure to predict growing demand for smaller, more fuel-efficient vehicles - which also answers the complaint about \"consumer choice\" suffering.) In short, state efforts to spur innovation and technological advancement are completely in line with what Congress intended, and automakers should be able to meet state GHG emission requirements. This is good news for the 12 states that have already adopted such regulations, and will probably spur six additional states that have been considering their own similar requirements to join the list. Of course, as Judge Sessions noted, this all hinges on EPA granting Californiaâs waiver. Members of Congress have already introduced legislation to force the agency to act on Californiaâs request (the Clean Cars Campaign has a handy timeline with links), and this recent decision will probably increase the pressure. Liz Borkowski works for the Project on Scientific Knowledge and Public Policy (SKAPP) at George Washington Universityâs School of Public Health and Health Services.'},\n",
              " {'Health advocates threaten lawsuit against firm importing asbestos to U.S.': '[This post is dedicated to Doug Larkin. Doug was the co-founder of the Asbestos Disease Awareness Organization. He suffered in recent years with Amyotrophic Lateral Sclerosis (ALS) and passed away yesterday.]\\xa0 Dallas-based OxyChem imports about 300,000 pounds of asbestos each year. Yes, asbestos. The deadly mineral that most Americans think is banned (it\\'s not) and responsible for about 15,000 U.S. cancer deaths annually. OxyChem is likely the largest asbestos importer in the U.S. The company is required under the Toxic Substances Control Act (TSCA) to report its asbestos imports to the EPA. A group of health advocates assert that the firm failed to do so.\\xa0The Asbestos Disease Awareness Organization (ADAO); Safer Chemicals, Healthy Families (SCHF); and Environmental Health Strategy Center are using TSCA\\'s “citizen enforcement” provision (15 USC 53 §2619)\\xa0to alert OxyChem of their “notice of intent to file suit” because of company’s failure to report their asbestos imports. OxyChem uses asbestos in its outdated chloralkali technology to produce chlorine. Plants in Europe, however, have moved to more advanced and safer technology which doesn\\'t rely on the deadly carcinogen. Of the 31 countries of the European Union and European Free Trade Association, only one chloralkali plant out of 75 is still using asbestos in their chlorine production process. The health groups relied on commercially-available U.S. Customs and Border Protection records to identify OxyChem’s asbestos imports. The records revealed imports totally nearly 900,000 pounds during 2013 through the end of 2015. Most of the shipments---more than 20 in total---come from the one remaining asbestos mine in Brazil. The import data, however, does not match up with records required by EPA. The health\\xa0groups found this out by filing a FOIA request with EPA to determine whether OxyChem complied with EPA’s Chemical Data Reporting (40 CFR, Part 711.)\\xa0It requires firms to report every four years their use of certain \"significant\" chemicals. Asbestos is one of those \"significant\" chemicals and users are required to report quantities that exceed 2,500 pounds per facility per year. OxyChem\\'s use of asbestos over the last four years should have been reported to EPA by October 31, 2016. The American Chemistry Council (ACC) recently submitted comments to EPA on documents the agency is preparing pursuant to the 2016 amends to TSCA. In their comments, ACC insists that asbestos can be used safely. That EPA should believe ACC\\'s assertions that chloralkali plants, such as OxyChem\\'s, are pristine, error-free operations in which asbestos never touches human hands or enters the air or surrounding environment. ACC also conveniently ignores the life cycle of the toxic, from the asbestos exposure that occurs in the Brazilian mining town of Minacu, the processing and shipping, to the handling, use and disposal of asbestos somewhere in the U.S. I tip my hat to Safer Chemicals, Healthy Families (SCHF), the Asbestos Disease Awareness Organization (ADAO), and Environmental Health Strategy Center for using TSCA\\'s\\xa0\"citizen enforcement\" provision. OxyChem and EPA have until the end of July to respond to the health groups\\' notice of intent to sue. If EPA fails to take action to compel OxyChem to comply with the TSCA reporting provision, the health groups could file a lawsuit in a U.S. district court.'},\n",
              " {'Designing better health: New EPA report links development and human health': 'by Kim Krisberg When most of us pass by a new high-rise or drive down a new road, we rarely think: Did the builders and planners consider my health? However, a new report from the U.S. Environmental Protection Agency offers evidence that certain types of land use and transportation decisions can indeed limit the human health and environmental impacts of development. Released in mid-June, the publication is a revised and updated version of an EPA report initially published in 2001. Agency officials said the report was particularly timely as the nation\\'s built environments are quickly changing — in fact, the report states that “researchers have estimated that as much as two-thirds of the development that will exist in 40 to 45 years does not exist today, meaning that decisions we make about how and where that development occurs could significantly affect our health and the health of the environment.” The report goes on to say: Patterns of development, transportation infrastructure, and building location and design — the built environment — directly affect the natural environment. Development takes the place of natural ecosystems and fragments habitat. It also influences decisions people make about how to get around and determines how much people must travel to meet daily needs. These mobility and travel decisions have indirect effects on human health and the natural environment by affecting air and water pollution levels, the global climate, levels of physical activity and community engagement, and the number and severity of vehicle crashes. Just a couple of the consequences of how we build and design our communities listed in the EPA publication: At least 850,000 acres of lakes, reservoirs and ponds and 50,000 miles of rivers and streams are estimated to be contaminated by stormwater runoff. And even though advancements in technology have reduced individual car emissions (emissions that reduce air quality and complicate respiratory disease), the substantial increase in car travel — often the only practical way for people to travel to and from daily destinations — has offset any potential gains from emission-reducing technology. The report also notes that while data is incomplete as to the relationship between the built environment and obesity and physical activity levels, a majority of studies have found that community design does play a role in people\\'s decisions to exercise. In fact, even the CDC\\'s Guide to Community Preventive Services recommends design and land-use policies that encourage and support physical activity. And a 2012 Alliance for Biking & Walking report found that $11.80 in benefits can be gained for every $1 invested in bicycling and walking infrastructure. In a news release announcing the new report, EPA Acting Administrator Bob Perciasepe said: “This report will be useful for communities across the country looking to make smart development decisions. Whether it’s housing, transportation, or environmental issues, this report can help communities protect public health and the environment by avoiding harmful development strategies.” The report notes that strategic changes in how we design and plan our communities can make a difference. For example, doubling residential density can reduce reliance on vehicles, which in turn reduces air pollution and increases the likelihood that people choose physically active travel means; making transportation decisions that include safe biking and walking options will also encourage physical activity; and green building materials and infrastructure can improve indoor air quality and limit negative impacts on water quality. Of course, public health professionals have long known about and focused on the effects of our environments on health. However, there is a growing movement to integrate health considerations into transportation and community design as well as to strengthen the linkages between public health workers and transportation and urban planners. To learn more about those topics, visit APHA, Transportation for America or the Smart Growth Network. To download a copy of EPA\\'s new report, \"Our Built and Natural Environments: A Technical Review of the Interactions Between Land Use, Transportation, and Environmental Quality,\" click here. Kim Krisberg is a freelance public health writer living in Austin, Texas, and has been writing about public health for more than a decade.'},\n",
              " {'Putting Numbers on Prevention: Cutting Pollution Saves Lives': 'Earlier this week, the EPA released a report that quantifies costs and benefits of the 1990 Clean Air Act Amendments - and, surprise, surprise, the benefits substantially outweigh the costs: $2 trillion vs. $65 billion in 2020. Specifically, The Benefits and Costs of the Clean Air Act from 1990 to 2020 evaluates the costs and benefits of programs implemented pursuant to the 1990 Clean Air Act Amendments, comparing today\\'s outcomes with what would\\'ve been expected had control programs remained only as stringent as they were before the 1990 changes took effect. The figures cover not only the costs and benefits we\\'ve seen so far, but those projected to occur between now and 2020. In 2010 alone, the amendments\\' reduction in fine particles and ozone pollution prevented more than 130,000 heart attacks and 160,000 cases of premature mortality. They also prevented the loss of 13 million workdays. In the year 2020, the benefits are predicted to be even greater: 2000,000 heart attacks, 230,000 premature deaths, and 17 million lost work days prevented. I wanted to refresh my memory on the exact content of the amendments that save so many lives, so I went to EPA\\'s website. What was particularly instructive about the agency\\'s writeup wasn\\'t the content of the amendments, but the description of the process behind them: By large votes, both the House of Representatives (401-21) and the Senate (89-11) passed Clean Air bills that contained the major components of the President\\'s proposals. Both bills also added provisions requiring the phaseout of ozone-depleting chemicals, roughly according to the schedule outlined in international negotiations (Revised Montreal Protocol). The Senate and House bills also added specific research and development provisions, as well as detailed programs to address accidental releases of toxic air pollutants. A joint conference committee met from July to October 1990 to iron out differences in the bills and both Houses overwhelmingly voted out the package recommended by the Conferees. The President received the Bill from Congress on November 14, 1990 and signed it on November 15,1990. Several progressive and creative new themes are embodied in the Amendments; themes necessary for effectively achieving the air quality goals and regulatory reform expected from these far-reaching amendments. Specifically the new law: With these themes providing the framework for the Clean Air Act amendments and with our commitment to implement the new law quickly, fairly and efficiently, Americans will get what they asked for: a healthy, productive environment, linked to sustainable economic growth and sound energy policy. I wasn\\'t conscious of politics back in 1990, so maybe someone who was can tell me whether passing these amendments involved a pitched battle in which one side misleadingly accused the other of the environmental equivalent of a \"death panel\" (or point me towards an article that\\'s less whitewashed than the EPA writeup). This description makes it sound like the President and approximately 90% of Congress acknowledged a public-health problem and worked out a solution that has turned out to save hundreds of thousands of lives.    I\\'m sure some of those who bore large shares of the costs of the 1990 Clean Air Act Amendments were unhappy, but the public as a whole has derived tremendous benefits from this legislation. As EPA notes in this fact sheet, their central benefits estimate exceeds costs by a factor of more than 30 to one.'}]"
            ]
          },
          "metadata": {
            "tags": []
          },
          "execution_count": 218
        }
      ]
    }
  ]
}