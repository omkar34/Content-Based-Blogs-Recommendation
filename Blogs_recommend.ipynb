{
  "nbformat": 4,
  "nbformat_minor": 0,
  "metadata": {
    "colab": {
      "name": "Blogs_recommend.ipynb",
      "provenance": [],
      "collapsed_sections": []
    },
    "kernelspec": {
      "name": "python3",
      "display_name": "Python 3"
    },
    "language_info": {
      "name": "python"
    }
  },
  "cells": [
    {
      "cell_type": "code",
      "metadata": {
        "id": "s8Os_IYXFX9j"
      },
      "source": [
        "import pandas as pd\n",
        "import numpy as np\n",
        "from sklearn.feature_extraction.text import TfidfVectorizer\n",
        "from sklearn.metrics.pairwise import cosine_similarity"
      ],
      "execution_count": null,
      "outputs": []
    },
    {
      "cell_type": "code",
      "metadata": {
        "colab": {
          "base_uri": "https://localhost:8080/",
          "height": 419
        },
        "id": "mQzESNHrHQK2",
        "outputId": "4055de95-9f4f-4a44-832d-bc818de411fb"
      },
      "source": [
        "df = pd.read_excel('blogs_dataset.xlsx')\n",
        "df"
      ],
      "execution_count": null,
      "outputs": [
        {
          "output_type": "execute_result",
          "data": {
            "text/html": [
              "<div>\n",
              "<style scoped>\n",
              "    .dataframe tbody tr th:only-of-type {\n",
              "        vertical-align: middle;\n",
              "    }\n",
              "\n",
              "    .dataframe tbody tr th {\n",
              "        vertical-align: top;\n",
              "    }\n",
              "\n",
              "    .dataframe thead th {\n",
              "        text-align: right;\n",
              "    }\n",
              "</style>\n",
              "<table border=\"1\" class=\"dataframe\">\n",
              "  <thead>\n",
              "    <tr style=\"text-align: right;\">\n",
              "      <th></th>\n",
              "      <th>title</th>\n",
              "      <th>info</th>\n",
              "    </tr>\n",
              "  </thead>\n",
              "  <tbody>\n",
              "    <tr>\n",
              "      <th>0</th>\n",
              "      <td>First Artificial Enzyme From Two Non-Biologica...</td>\n",
              "      <td>Scientists have used an unnatural amino acid a...</td>\n",
              "    </tr>\n",
              "    <tr>\n",
              "      <th>1</th>\n",
              "      <td>AI Will Revolutionize DNA Evidence – Once We C...</td>\n",
              "      <td>DNA evidence often isn’t as watertight as many...</td>\n",
              "    </tr>\n",
              "    <tr>\n",
              "      <th>2</th>\n",
              "      <td>The Hubble Space Telescope Is Falling (Synopsis)</td>\n",
              "      <td>\"When we meet real tragedy in life, we can rea...</td>\n",
              "    </tr>\n",
              "    <tr>\n",
              "      <th>3</th>\n",
              "      <td>5 NASA Photos That Changed The World</td>\n",
              "      <td>\"Truth in science, however, is never final, an...</td>\n",
              "    </tr>\n",
              "    <tr>\n",
              "      <th>4</th>\n",
              "      <td>Double Comments of the Week #178: From Point P...</td>\n",
              "      <td>“I see now that the circumstances of one's bir...</td>\n",
              "    </tr>\n",
              "    <tr>\n",
              "      <th>...</th>\n",
              "      <td>...</td>\n",
              "      <td>...</td>\n",
              "    </tr>\n",
              "    <tr>\n",
              "      <th>1012</th>\n",
              "      <td>A Question For The President</td>\n",
              "      <td>After a day-long road trip from Ohio, I finall...</td>\n",
              "    </tr>\n",
              "    <tr>\n",
              "      <th>1013</th>\n",
              "      <td>Once More with Sandefur on the Explosives</td>\n",
              "      <td>Here we go again.... \\n The link here is to a ...</td>\n",
              "    </tr>\n",
              "    <tr>\n",
              "      <th>1014</th>\n",
              "      <td>Deadly, Tiny, and Ready For Its Close-up, Mr. ...</td>\n",
              "      <td>If you took a census of life on Earth, you'd p...</td>\n",
              "    </tr>\n",
              "    <tr>\n",
              "      <th>1015</th>\n",
              "      <td>When Think Tanks Attack</td>\n",
              "      <td>The Alexis de Tocqueville Institute's attack o...</td>\n",
              "    </tr>\n",
              "    <tr>\n",
              "      <th>1016</th>\n",
              "      <td>The AAAS on Georgia Evolution Controversy</td>\n",
              "      <td>Alan Leshner, the head of the American Associa...</td>\n",
              "    </tr>\n",
              "  </tbody>\n",
              "</table>\n",
              "<p>1017 rows × 2 columns</p>\n",
              "</div>"
            ],
            "text/plain": [
              "                                                  title                                               info\n",
              "0     First Artificial Enzyme From Two Non-Biologica...  Scientists have used an unnatural amino acid a...\n",
              "1     AI Will Revolutionize DNA Evidence – Once We C...  DNA evidence often isn’t as watertight as many...\n",
              "2      The Hubble Space Telescope Is Falling (Synopsis)  \"When we meet real tragedy in life, we can rea...\n",
              "3                  5 NASA Photos That Changed The World  \"Truth in science, however, is never final, an...\n",
              "4     Double Comments of the Week #178: From Point P...  “I see now that the circumstances of one's bir...\n",
              "...                                                 ...                                                ...\n",
              "1012                       A Question For The President  After a day-long road trip from Ohio, I finall...\n",
              "1013          Once More with Sandefur on the Explosives  Here we go again.... \\n The link here is to a ...\n",
              "1014  Deadly, Tiny, and Ready For Its Close-up, Mr. ...  If you took a census of life on Earth, you'd p...\n",
              "1015                            When Think Tanks Attack  The Alexis de Tocqueville Institute's attack o...\n",
              "1016          The AAAS on Georgia Evolution Controversy  Alan Leshner, the head of the American Associa...\n",
              "\n",
              "[1017 rows x 2 columns]"
            ]
          },
          "metadata": {
            "tags": []
          },
          "execution_count": 2
        }
      ]
    },
    {
      "cell_type": "code",
      "metadata": {
        "colab": {
          "base_uri": "https://localhost:8080/"
        },
        "id": "O9OpVrK0JSsN",
        "outputId": "e3fd79cc-7589-404d-b1f0-c34565207bc4"
      },
      "source": [
        "df.shape"
      ],
      "execution_count": null,
      "outputs": [
        {
          "output_type": "execute_result",
          "data": {
            "text/plain": [
              "(1017, 2)"
            ]
          },
          "metadata": {
            "tags": []
          },
          "execution_count": 3
        }
      ]
    },
    {
      "cell_type": "code",
      "metadata": {
        "colab": {
          "base_uri": "https://localhost:8080/",
          "height": 35
        },
        "id": "BhzbjVD4JGbZ",
        "outputId": "7f5592b7-715c-4c4e-ab5e-3ce28182364b"
      },
      "source": [
        "df['title'][0]"
      ],
      "execution_count": null,
      "outputs": [
        {
          "output_type": "execute_result",
          "data": {
            "application/vnd.google.colaboratory.intrinsic+json": {
              "type": "string"
            },
            "text/plain": [
              "'First Artificial Enzyme From Two Non-Biological Groups Created'"
            ]
          },
          "metadata": {
            "tags": []
          },
          "execution_count": 4
        }
      ]
    },
    {
      "cell_type": "code",
      "metadata": {
        "colab": {
          "base_uri": "https://localhost:8080/",
          "height": 171
        },
        "id": "wuc0wogiJNCf",
        "outputId": "0755aee1-b689-43d3-f231-eefe3a4a36b0"
      },
      "source": [
        "df['info'][0]"
      ],
      "execution_count": null,
      "outputs": [
        {
          "output_type": "execute_result",
          "data": {
            "application/vnd.google.colaboratory.intrinsic+json": {
              "type": "string"
            },
            "text/plain": [
              "'Scientists have used an unnatural amino acid and a catalytic copper complex to create\\xa0a new, artificial enzyme.\\xa0 Enzymes are natural catalysts that operate under mild conditions. This makes them an attractive alternative for industrial chemical catalysis, which may require high temperature and pressure and toxic solvents or metals. However, not all chemical reactions can be catalyzed by natural enzymes. Modifying existing enzymes is one option but University of Groningen Chemistry Professor Gerard Roelfes believes that creating new enzymes could be another valuable option. For this study,\\xa0they added a copper complex to a protein that had no enzymatic properties and\\xa0inserted an unnatural amino acid into the protein. Together with the copper, a side chain of the amino acid was able to catalyze the required reaction. This technique could\\xa0replace standard chemical catalysis and make chemistry more energy-efficient and therefore cleaner. \"Natural enzymes evolved to catalyse specific reactions. Adapting requires a kind of devolving of the enzyme. That is why we pioneered the creation of new, unnatural enzymes,\"\\xa0Roelfes says. In 2018, they created a non-enzymatic protein, the bacterial transcription factor LmrR, which could form non-biological hydrazone structures after the insertion of the unnatural amino acid p aminophenylalanine. This was the first enzyme created using an unnatural amino acid as a catalytic group. This time, they used the same LmrR protein and added two abiological catalytic components to it: one was the same unnatural amino acid p aminophenylalanine and the other a copper-containing complex. Both can activate the reaction partners for the classic Michael addition reaction, which is widely used in organic chemistry to create carbon-carbon bonds. \"But they both have to be in the right position to efficiently and selectively catalyse this reaction,\\' says Roelfes. \"Just adding both components to a test tube would not work: \\'In fact, they cancel each other out when they come too close.\" The copper-containing complex attaches itself to the doughnut-shaped LmrR protein through supramolecular bonds. Its position is determined by the interaction with the protein. They\\xa0determined where the p-aminophenylalanine should be inserted into the protein to create an active site.\\xa0The catalytic part of this amino acid is an aniline side chain. They knew the potential utility of this aniline side chain for catalysis and envisioned that it would be possible to combine it with copper catalysis.\\xa0When the novel enzyme was constructed, the adapted protein turned out to be a very selective catalyst for the Michael addition.'"
            ]
          },
          "metadata": {
            "tags": []
          },
          "execution_count": 5
        }
      ]
    },
    {
      "cell_type": "code",
      "metadata": {
        "colab": {
          "base_uri": "https://localhost:8080/"
        },
        "id": "6tbNX8FzJQF-",
        "outputId": "574c7643-67a7-40e4-e6a2-1061e5b6ee17"
      },
      "source": [
        "tf = TfidfVectorizer(analyzer='word', stop_words='english', ngram_range=(1,3), min_df=3)\n",
        "tf"
      ],
      "execution_count": null,
      "outputs": [
        {
          "output_type": "execute_result",
          "data": {
            "text/plain": [
              "TfidfVectorizer(analyzer='word', binary=False, decode_error='strict',\n",
              "                dtype=<class 'numpy.float64'>, encoding='utf-8',\n",
              "                input='content', lowercase=True, max_df=1.0, max_features=None,\n",
              "                min_df=3, ngram_range=(1, 3), norm='l2', preprocessor=None,\n",
              "                smooth_idf=True, stop_words='english', strip_accents=None,\n",
              "                sublinear_tf=False, token_pattern='(?u)\\\\b\\\\w\\\\w+\\\\b',\n",
              "                tokenizer=None, use_idf=True, vocabulary=None)"
            ]
          },
          "metadata": {
            "tags": []
          },
          "execution_count": 6
        }
      ]
    },
    {
      "cell_type": "code",
      "metadata": {
        "colab": {
          "base_uri": "https://localhost:8080/"
        },
        "id": "ewEcglZmJuN9",
        "outputId": "86f76e72-0368-4dd8-be66-7cc1c51cc02a"
      },
      "source": [
        "tf_matrix = tf.fit_transform(df['info'])\n",
        "tf_matrix.shape"
      ],
      "execution_count": null,
      "outputs": [
        {
          "output_type": "execute_result",
          "data": {
            "text/plain": [
              "(1017, 30091)"
            ]
          },
          "metadata": {
            "tags": []
          },
          "execution_count": 7
        }
      ]
    },
    {
      "cell_type": "code",
      "metadata": {
        "colab": {
          "base_uri": "https://localhost:8080/"
        },
        "id": "FjR37IPfKMuk",
        "outputId": "e23442fe-d9db-440b-b41a-9bac8b2de752"
      },
      "source": [
        "sim = cosine_similarity(tf_matrix, tf_matrix)\n",
        "sim[0]"
      ],
      "execution_count": null,
      "outputs": [
        {
          "output_type": "execute_result",
          "data": {
            "text/plain": [
              "array([1.        , 0.01308201, 0.00160427, ..., 0.01649085, 0.00818046,\n",
              "       0.01102448])"
            ]
          },
          "metadata": {
            "tags": []
          },
          "execution_count": 8
        }
      ]
    },
    {
      "cell_type": "code",
      "metadata": {
        "id": "OUYIuZPzMIfG"
      },
      "source": [
        "index = pd.Series(df.index, index=df['title']).drop_duplicates()"
      ],
      "execution_count": null,
      "outputs": []
    },
    {
      "cell_type": "code",
      "metadata": {
        "colab": {
          "base_uri": "https://localhost:8080/"
        },
        "id": "Ch8YKQ28NqgK",
        "outputId": "c3ce7fef-38e3-4931-bce4-d0b18013592e"
      },
      "source": [
        "index"
      ],
      "execution_count": null,
      "outputs": [
        {
          "output_type": "execute_result",
          "data": {
            "text/plain": [
              "title\n",
              "First Artificial Enzyme From Two Non-Biological Groups Created                                 0\n",
              "AI Will Revolutionize DNA Evidence – Once We Can Trust The Results                             1\n",
              "The Hubble Space Telescope Is Falling (Synopsis)                                               2\n",
              "5 NASA Photos That Changed The World                                                           3\n",
              "Double Comments of the Week #178: From Point Particles To The Very First Galaxies Of All       4\n",
              "                                                                                            ... \n",
              "A Question For The President                                                                1012\n",
              "Once More with Sandefur on the Explosives                                                   1013\n",
              "Deadly, Tiny, and Ready For Its Close-up, Mr. DeMille                                       1014\n",
              "When Think Tanks Attack                                                                     1015\n",
              "The AAAS on Georgia Evolution Controversy                                                   1016\n",
              "Length: 1017, dtype: int64"
            ]
          },
          "metadata": {
            "tags": []
          },
          "execution_count": 10
        }
      ]
    },
    {
      "cell_type": "code",
      "metadata": {
        "colab": {
          "base_uri": "https://localhost:8080/"
        },
        "id": "5XjzvsT_R_fX",
        "outputId": "e341a3b8-858d-49fb-ab47-14156523426e"
      },
      "source": [
        "index['AI Will Revolutionize DNA Evidence – Once We Can Trust The Results']"
      ],
      "execution_count": null,
      "outputs": [
        {
          "output_type": "execute_result",
          "data": {
            "text/plain": [
              "1"
            ]
          },
          "metadata": {
            "tags": []
          },
          "execution_count": 11
        }
      ]
    },
    {
      "cell_type": "code",
      "metadata": {
        "id": "INjx--9JNrXJ"
      },
      "source": [
        "def recommend_me(title, sim=sim):\n",
        "  myindex = index[title]\n",
        "  myscore = list(enumerate(sim[myindex]))\n",
        "  myscore = sorted(myscore, key=lambda x: x[1], reverse=True)\n",
        "  top5 = myscore[1:6]\n",
        "  blog_index = [i[0] for i in top5]\n",
        "  keys = list(df['title'].iloc[blog_index])\n",
        "  values = list(df['info'].iloc[blog_index])\n",
        "  ll = dict(zip(keys,values))\n",
        "  comb_dict = [{a:b} for a,b in zip(keys, values)]\n",
        "  return keys"
      ],
      "execution_count": null,
      "outputs": []
    },
    {
      "cell_type": "code",
      "metadata": {
        "colab": {
          "base_uri": "https://localhost:8080/",
          "height": 35
        },
        "id": "tpaLN2dtX8JR",
        "outputId": "ef7465af-e20f-4f56-d4a4-f122a12b0634"
      },
      "source": [
        "df['title'][21]"
      ],
      "execution_count": null,
      "outputs": [
        {
          "output_type": "execute_result",
          "data": {
            "application/vnd.google.colaboratory.intrinsic+json": {
              "type": "string"
            },
            "text/plain": [
              "'House passes bills that will make it harder for EPA to protect public health'"
            ]
          },
          "metadata": {
            "tags": []
          },
          "execution_count": 13
        }
      ]
    },
    {
      "cell_type": "code",
      "metadata": {
        "colab": {
          "base_uri": "https://localhost:8080/"
        },
        "id": "-mPB9l-NRnOr",
        "outputId": "8edfbf4d-ac27-4f00-8f54-86c615e1f3cb"
      },
      "source": [
        "recommend_me('House passes bills that will make it harder for EPA to protect public health')"
      ],
      "execution_count": null,
      "outputs": [
        {
          "output_type": "execute_result",
          "data": {
            "text/plain": [
              "['UCS Reports on Interference at EPA',\n",
              " 'Judge Finds States are Doing What Congress Intended',\n",
              " 'Health advocates threaten lawsuit against firm importing asbestos to U.S.',\n",
              " 'Designing better health: New EPA report links development and human health',\n",
              " 'Putting Numbers on Prevention: Cutting Pollution Saves Lives']"
            ]
          },
          "metadata": {
            "tags": []
          },
          "execution_count": 20
        }
      ]
    }
  ]
}